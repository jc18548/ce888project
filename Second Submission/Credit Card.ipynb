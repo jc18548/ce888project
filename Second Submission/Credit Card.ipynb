{
 "cells": [
  {
   "cell_type": "markdown",
   "metadata": {},
   "source": [
    "# Credit Card"
   ]
  },
  {
   "cell_type": "code",
   "execution_count": 1,
   "metadata": {},
   "outputs": [],
   "source": [
    "import matplotlib\n",
    "import numpy as np\n",
    "import matplotlib.pyplot as plt\n",
    "import pandas as pd\n",
    "import seaborn as sns\n",
    "\n",
    "from sklearn.model_selection import train_test_split\n",
    "from sklearn.tree import DecisionTreeClassifier\n",
    "from sklearn.ensemble import RandomForestClassifier\n",
    "from sklearn.model_selection import cross_val_score\n",
    "from sklearn.metrics import accuracy_score as acc\n",
    "from sklearn.preprocessing import KBinsDiscretizer\n",
    "from sklearn import tree\n",
    "\n",
    "#prepare data\n",
    "df = pd.read_csv(\"./default of credit card clients.csv\", header = 1, delimiter = \",\")\n",
    "\n",
    "X = df.loc[:,'LIMIT_BAL':'PAY_AMT6']\n",
    "y = df.loc[:,'default payment next month']\n",
    "X_train, X_test, y_train, y_test = train_test_split(X, y, test_size=0.70, random_state=5) #70% training  30% test"
   ]
  },
  {
   "cell_type": "code",
   "execution_count": 2,
   "metadata": {},
   "outputs": [
    {
     "name": "stdout",
     "output_type": "stream",
     "text": [
      "Accuracy: 0.7788\n"
     ]
    }
   ],
   "source": [
    "#train random forest\n",
    "clf=RandomForestClassifier(n_estimators=100)\n",
    "clf.fit(X_train,y_train)\n",
    "\n",
    "#Predict probabilities\n",
    "y_prob_pred = clf.predict_proba(X_test)\n",
    "\n",
    "#Predict in all data\n",
    "y_prob_pred = clf.predict_proba(X)\n",
    "\n",
    "y_prob_pred2 = []\n",
    "for i in range(len(y_prob_pred)):\n",
    "    if(y_prob_pred[i][0] <= 5):\n",
    "        y_prob_pred2.append(0)\n",
    "    else:\n",
    "        y_prob_pred2.append(1)\n",
    "\n",
    "#Test\n",
    "print(\"Accuracy:\", acc(y_prob_pred2, y))\n"
   ]
  },
  {
   "cell_type": "code",
   "execution_count": 3,
   "metadata": {},
   "outputs": [],
   "source": [
    "#Create new dataset\n",
    "\n",
    "#fit in bins\n",
    "ds = []\n",
    "bins = KBinsDiscretizer(n_bins=10, encode='ordinal', strategy='uniform')\n",
    "yt = bins.fit_transform(y_prob_pred)\n",
    "#yt = bins.transform(y_prob_pred[0])\n",
    "#yt.shape   \n",
    "X_train_new, X_test_new, y_train_new, y_test_new = train_test_split(X, yt, test_size=0.70, random_state=5) #70% training  30% test"
   ]
  },
  {
   "cell_type": "code",
   "execution_count": 4,
   "metadata": {},
   "outputs": [
    {
     "data": {
      "text/plain": [
       "DecisionTreeClassifier(class_weight=None, criterion='gini', max_depth=None,\n",
       "            max_features=None, max_leaf_nodes=None,\n",
       "            min_impurity_decrease=0.0, min_impurity_split=None,\n",
       "            min_samples_leaf=1, min_samples_split=2,\n",
       "            min_weight_fraction_leaf=0.0, presort=False, random_state=None,\n",
       "            splitter='best')"
      ]
     },
     "execution_count": 4,
     "metadata": {},
     "output_type": "execute_result"
    }
   ],
   "source": [
    "#Generate tree\n",
    "tree = tree.DecisionTreeClassifier()\n",
    "tree.fit(X_train_new, y_train_new)"
   ]
  },
  {
   "cell_type": "code",
   "execution_count": 5,
   "metadata": {},
   "outputs": [],
   "source": [
    "y_pred_tree_fin2 = []\n",
    "y_pred_tree_fin = tree.predict(X)\n",
    "#Return bins to two classes\n",
    "y_pred_tree2 = []\n",
    "for i in range(len(y_pred_tree_fin)):\n",
    "    if(y_pred_tree_fin[i][0] >= 5):\n",
    "        y_pred_tree_fin2.append(0)\n",
    "    else:\n",
    "        y_pred_tree_fin2.append(1)"
   ]
  },
  {
   "cell_type": "code",
   "execution_count": 7,
   "metadata": {},
   "outputs": [
    {
     "name": "stdout",
     "output_type": "stream",
     "text": [
      "Accuracy: 0.8090666666666667\n"
     ]
    }
   ],
   "source": [
    "#Test\n",
    "print(\"Accuracy:\", acc(y_pred_tree_fin2, y))"
   ]
  },
  {
   "cell_type": "code",
   "execution_count": 9,
   "metadata": {},
   "outputs": [
    {
     "name": "stdout",
     "output_type": "stream",
     "text": [
      "              precision    recall  f1-score   support\n",
      "\n",
      "           0       0.88      0.87      0.88     23364\n",
      "           1       0.57      0.58      0.57      6636\n",
      "\n",
      "   micro avg       0.81      0.81      0.81     30000\n",
      "   macro avg       0.72      0.73      0.73     30000\n",
      "weighted avg       0.81      0.81      0.81     30000\n",
      "\n",
      "0.45180668743778274\n"
     ]
    }
   ],
   "source": [
    "from sklearn import metrics\n",
    "from sklearn.metrics import cohen_kappa_score, make_scorer\n",
    "kappa_scorer = make_scorer(cohen_kappa_score)\n",
    "\n",
    "print(metrics.classification_report(y,y_pred_tree_fin2))\n",
    "print(cohen_kappa_score(y, y_pred_tree_fin2))"
   ]
  },
  {
   "cell_type": "code",
   "execution_count": 15,
   "metadata": {},
   "outputs": [
    {
     "data": {
      "text/plain": [
       "DecisionTreeClassifier(class_weight=None, criterion='gini', max_depth=None,\n",
       "            max_features=None, max_leaf_nodes=None,\n",
       "            min_impurity_decrease=0.0, min_impurity_split=None,\n",
       "            min_samples_leaf=1, min_samples_split=2,\n",
       "            min_weight_fraction_leaf=0.0, presort=False, random_state=None,\n",
       "            splitter='best')"
      ]
     },
     "execution_count": 15,
     "metadata": {},
     "output_type": "execute_result"
    }
   ],
   "source": [
    "#Generate tree for normal training\n",
    "from sklearn.tree import DecisionTreeClassifier\n",
    "from sklearn import tree\n",
    "\n",
    "tree2 = tree.DecisionTreeClassifier()\n",
    "tree2.fit(X_train, y_train)"
   ]
  },
  {
   "cell_type": "code",
   "execution_count": 17,
   "metadata": {},
   "outputs": [],
   "source": [
    "y_pred_tree2 = tree2.predict(X)"
   ]
  },
  {
   "cell_type": "code",
   "execution_count": 18,
   "metadata": {},
   "outputs": [
    {
     "name": "stdout",
     "output_type": "stream",
     "text": [
      "Accuracy: 0.8080666666666667\n",
      "              precision    recall  f1-score   support\n",
      "\n",
      "           0       0.88      0.87      0.88     23364\n",
      "           1       0.56      0.58      0.57      6636\n",
      "\n",
      "   micro avg       0.81      0.81      0.81     30000\n",
      "   macro avg       0.72      0.73      0.72     30000\n",
      "weighted avg       0.81      0.81      0.81     30000\n",
      "\n",
      "Kappa Score:  0.44769768010772404\n"
     ]
    }
   ],
   "source": [
    "#Test\n",
    "print(\"Accuracy:\", acc(y_pred_tree2, y))\n",
    "print(metrics.classification_report(y,y_pred_tree2))\n",
    "print(\"Kappa Score: \",cohen_kappa_score(y, y_pred_tree2))"
   ]
  },
  {
   "cell_type": "code",
   "execution_count": 28,
   "metadata": {},
   "outputs": [],
   "source": [
    "#Generate tree\n",
    "from sklearn import tree\n",
    "from sklearn.tree import DecisionTreeClassifier\n",
    "tree = tree.DecisionTreeClassifier()\n",
    "\n",
    "tree.fit(X_train_new, y_train_new)\n",
    "from sklearn.model_selection import GridSearchCV\n",
    "param_grid = {\"criterion\": [\"gini\", \"entropy\"],\n",
    "\"min_samples_split\": range(2,20),\n",
    "\"min_impurity_decrease\": range(2,20),\n",
    "\"max_depth\": [None, 2, 5, 10],\n",
    "\"min_samples_leaf\": [1, 5, 10],\n",
    "\"max_leaf_nodes\": [None, 5, 10, 20],\n",
    "}\n",
    "grid = GridSearchCV(tree, param_grid, cv=10, scoring='accuracy')"
   ]
  },
  {
   "cell_type": "code",
   "execution_count": null,
   "metadata": {},
   "outputs": [],
   "source": []
  }
 ],
 "metadata": {
  "kernelspec": {
   "display_name": "Python 3",
   "language": "python",
   "name": "python3"
  },
  "language_info": {
   "codemirror_mode": {
    "name": "ipython",
    "version": 3
   },
   "file_extension": ".py",
   "mimetype": "text/x-python",
   "name": "python",
   "nbconvert_exporter": "python",
   "pygments_lexer": "ipython3",
   "version": "3.7.1"
  }
 },
 "nbformat": 4,
 "nbformat_minor": 2
}
