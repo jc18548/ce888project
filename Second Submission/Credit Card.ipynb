{
 "cells": [
  {
   "cell_type": "markdown",
   "metadata": {},
   "source": [
    "# Credit Card"
   ]
  },
  {
   "cell_type": "code",
   "execution_count": 1,
   "metadata": {},
   "outputs": [],
   "source": [
    "import matplotlib\n",
    "import numpy as np\n",
    "import matplotlib.pyplot as plt\n",
    "import pandas as pd\n",
    "import seaborn as sns\n",
    "\n",
    "from sklearn.model_selection import train_test_split\n",
    "from sklearn.tree import DecisionTreeClassifier\n",
    "from sklearn.ensemble import RandomForestClassifier\n",
    "from sklearn.model_selection import cross_val_score\n",
    "from sklearn.metrics import accuracy_score as acc\n",
    "from sklearn.preprocessing import KBinsDiscretizer\n",
    "from sklearn import tree\n",
    "\n",
    "#prepare data\n",
    "df = pd.read_csv(\"./default of credit card clients.csv\", header = 1, delimiter = \",\")\n",
    "\n",
    "#Split data set\n",
    "X = df.loc[:,'LIMIT_BAL':'PAY_AMT6']\n",
    "y = df.loc[:,'default payment next month']\n",
    "#Split in training and testing\n",
    "X_train, X_test, y_train, y_test = train_test_split(X, y, test_size=0.70, random_state=5) #70% training  30% test"
   ]
  },
  {
   "cell_type": "code",
   "execution_count": 2,
   "metadata": {},
   "outputs": [
    {
     "name": "stdout",
     "output_type": "stream",
     "text": [
      "Accuracy: 0.7788\n"
     ]
    }
   ],
   "source": [
    "#train random forest\n",
    "clf=RandomForestClassifier(n_estimators=100)\n",
    "clf.fit(X_train,y_train)\n",
    "\n",
    "#Predict probabilities\n",
    "y_prob_pred = clf.predict_proba(X_test)\n",
    "\n",
    "#Predict in all data\n",
    "y_prob_pred = clf.predict_proba(X)\n",
    "\n",
    "y_prob_pred2 = []\n",
    "for i in range(len(y_prob_pred)):\n",
    "    if(y_prob_pred[i][0] <= 5):\n",
    "        y_prob_pred2.append(0)\n",
    "    else:\n",
    "        y_prob_pred2.append(1)\n",
    "\n",
    "#Test\n",
    "print(\"Accuracy:\", acc(y_prob_pred2, y))\n"
   ]
  },
  {
   "cell_type": "code",
   "execution_count": 3,
   "metadata": {},
   "outputs": [],
   "source": [
    "#Create new dataset\n",
    "\n",
    "#fit in bins\n",
    "ds = []\n",
    "bins = KBinsDiscretizer(n_bins=10, encode='ordinal', strategy='uniform')\n",
    "yt = bins.fit_transform(y_prob_pred) \n",
    "X_train_new, X_test_new, y_train_new, y_test_new = train_test_split(X, yt, test_size=0.70, random_state=5) #70% training  30% test"
   ]
  },
  {
   "cell_type": "code",
   "execution_count": 4,
   "metadata": {},
   "outputs": [
    {
     "data": {
      "text/plain": [
       "DecisionTreeClassifier(class_weight=None, criterion='gini', max_depth=None,\n",
       "            max_features=None, max_leaf_nodes=None,\n",
       "            min_impurity_decrease=0.0, min_impurity_split=None,\n",
       "            min_samples_leaf=1, min_samples_split=2,\n",
       "            min_weight_fraction_leaf=0.0, presort=False, random_state=None,\n",
       "            splitter='best')"
      ]
     },
     "execution_count": 4,
     "metadata": {},
     "output_type": "execute_result"
    }
   ],
   "source": [
    "#Generate tree for distillation\n",
    "tree = tree.DecisionTreeClassifier()\n",
    "#Train using new dataset\n",
    "tree.fit(X_train_new, y_train_new)"
   ]
  },
  {
   "cell_type": "code",
   "execution_count": 5,
   "metadata": {},
   "outputs": [],
   "source": [
    "#Predict from the original dataset\n",
    "y_pred_tree_fin2 = []\n",
    "y_pred_tree_fin = tree.predict(X)\n",
    "#Return bins to two classes\n",
    "y_pred_tree2 = []\n",
    "for i in range(len(y_pred_tree_fin)):\n",
    "    if(y_pred_tree_fin[i][0] >= 5):\n",
    "        y_pred_tree_fin2.append(0)\n",
    "    else:\n",
    "        y_pred_tree_fin2.append(1)"
   ]
  },
  {
   "cell_type": "code",
   "execution_count": 7,
   "metadata": {},
   "outputs": [
    {
     "name": "stdout",
     "output_type": "stream",
     "text": [
      "Accuracy: 0.8090666666666667\n"
     ]
    }
   ],
   "source": [
    "#Test\n",
    "print(\"Accuracy:\", acc(y_pred_tree_fin2, y))"
   ]
  },
  {
   "cell_type": "code",
   "execution_count": 9,
   "metadata": {},
   "outputs": [
    {
     "name": "stdout",
     "output_type": "stream",
     "text": [
      "              precision    recall  f1-score   support\n",
      "\n",
      "           0       0.88      0.87      0.88     23364\n",
      "           1       0.57      0.58      0.57      6636\n",
      "\n",
      "   micro avg       0.81      0.81      0.81     30000\n",
      "   macro avg       0.72      0.73      0.73     30000\n",
      "weighted avg       0.81      0.81      0.81     30000\n",
      "\n",
      "0.45180668743778274\n"
     ]
    }
   ],
   "source": [
    "#Get scores\n",
    "from sklearn import metrics\n",
    "from sklearn.metrics import cohen_kappa_score, make_scorer\n",
    "kappa_scorer = make_scorer(cohen_kappa_score)\n",
    "\n",
    "print(metrics.classification_report(y,y_pred_tree_fin2))\n",
    "print(cohen_kappa_score(y, y_pred_tree_fin2))"
   ]
  },
  {
   "cell_type": "code",
   "execution_count": 15,
   "metadata": {},
   "outputs": [
    {
     "data": {
      "text/plain": [
       "DecisionTreeClassifier(class_weight=None, criterion='gini', max_depth=None,\n",
       "            max_features=None, max_leaf_nodes=None,\n",
       "            min_impurity_decrease=0.0, min_impurity_split=None,\n",
       "            min_samples_leaf=1, min_samples_split=2,\n",
       "            min_weight_fraction_leaf=0.0, presort=False, random_state=None,\n",
       "            splitter='best')"
      ]
     },
     "execution_count": 15,
     "metadata": {},
     "output_type": "execute_result"
    }
   ],
   "source": [
    "#Generate tree for normal training\n",
    "from sklearn.tree import DecisionTreeClassifier\n",
    "from sklearn import tree\n",
    "#Train with original data\n",
    "tree2 = tree.DecisionTreeClassifier()\n",
    "tree2.fit(X_train, y_train)"
   ]
  },
  {
   "cell_type": "code",
   "execution_count": 17,
   "metadata": {},
   "outputs": [],
   "source": [
    "#Predict from original dataset\n",
    "y_pred_tree2 = tree2.predict(X)"
   ]
  },
  {
   "cell_type": "code",
   "execution_count": 18,
   "metadata": {},
   "outputs": [
    {
     "name": "stdout",
     "output_type": "stream",
     "text": [
      "Accuracy: 0.8080666666666667\n",
      "              precision    recall  f1-score   support\n",
      "\n",
      "           0       0.88      0.87      0.88     23364\n",
      "           1       0.56      0.58      0.57      6636\n",
      "\n",
      "   micro avg       0.81      0.81      0.81     30000\n",
      "   macro avg       0.72      0.73      0.72     30000\n",
      "weighted avg       0.81      0.81      0.81     30000\n",
      "\n",
      "Kappa Score:  0.44769768010772404\n"
     ]
    }
   ],
   "source": [
    "#Test\n",
    "#Get scores\n",
    "print(\"Accuracy:\", acc(y_pred_tree2, y))\n",
    "print(metrics.classification_report(y,y_pred_tree2))\n",
    "print(\"Kappa Score: \",cohen_kappa_score(y, y_pred_tree2))"
   ]
  },
  {
   "cell_type": "code",
   "execution_count": 53,
   "metadata": {},
   "outputs": [
    {
     "data": {
      "text/plain": [
       "([array([  433.,     0.,     0.,     0.,     0.,     0.,     0.,   751.,\n",
       "             0.,     0.,     0.,     0.,     0.,     0.,     0.,  1176.,\n",
       "             0.,     0.,     0.,     0.,     0.,     0.,     0.,  1236.,\n",
       "             0.,     0.,     0.,     0.,     0.,     0.,     0.,   974.,\n",
       "             0.,     0.,     0.,     0.,     0.,     0.,  1059.,     0.,\n",
       "             0.,     0.,     0.,     0.,     0.,     0.,  1603.,     0.,\n",
       "             0.,     0.,     0.,     0.,     0.,     0.,  3093.,     0.,\n",
       "             0.,     0.,     0.,     0.,     0.,     0.,  7423.,     0.,\n",
       "             0.,     0.,     0.,     0.,     0., 12252.]),\n",
       "  array([11239.,     0.,     0.,     0.,     0.,     0.,     0.,  7925.,\n",
       "             0.,     0.,     0.,     0.,     0.,     0.,     0.,  3401.,\n",
       "             0.,     0.,     0.,     0.,     0.,     0.,     0.,  1654.,\n",
       "             0.,     0.,     0.,     0.,     0.,     0.,     0.,  1098.,\n",
       "             0.,     0.,     0.,     0.,     0.,     0.,   981.,     0.,\n",
       "             0.,     0.,     0.,     0.,     0.,     0.,  1210.,     0.,\n",
       "             0.,     0.,     0.,     0.,     0.,     0.,  1217.,     0.,\n",
       "             0.,     0.,     0.,     0.,     0.,     0.,   787.,     0.,\n",
       "             0.,     0.,     0.,     0.,     0.,   488.])],\n",
       " array([0.        , 0.12857143, 0.25714286, 0.38571429, 0.51428571,\n",
       "        0.64285714, 0.77142857, 0.9       , 1.02857143, 1.15714286,\n",
       "        1.28571429, 1.41428571, 1.54285714, 1.67142857, 1.8       ,\n",
       "        1.92857143, 2.05714286, 2.18571429, 2.31428571, 2.44285714,\n",
       "        2.57142857, 2.7       , 2.82857143, 2.95714286, 3.08571429,\n",
       "        3.21428571, 3.34285714, 3.47142857, 3.6       , 3.72857143,\n",
       "        3.85714286, 3.98571429, 4.11428571, 4.24285714, 4.37142857,\n",
       "        4.5       , 4.62857143, 4.75714286, 4.88571429, 5.01428571,\n",
       "        5.14285714, 5.27142857, 5.4       , 5.52857143, 5.65714286,\n",
       "        5.78571429, 5.91428571, 6.04285714, 6.17142857, 6.3       ,\n",
       "        6.42857143, 6.55714286, 6.68571429, 6.81428571, 6.94285714,\n",
       "        7.07142857, 7.2       , 7.32857143, 7.45714286, 7.58571429,\n",
       "        7.71428571, 7.84285714, 7.97142857, 8.1       , 8.22857143,\n",
       "        8.35714286, 8.48571429, 8.61428571, 8.74285714, 8.87142857,\n",
       "        9.        ]),\n",
       " <a list of 2 Lists of Patches objects>)"
      ]
     },
     "execution_count": 53,
     "metadata": {},
     "output_type": "execute_result"
    },
    {
     "data": {
      "image/png": "[encoded data removed]",
      "text/plain": [
       "<Figure size 432x288 with 1 Axes>"
      ]
     },
     "metadata": {
      "needs_background": "light"
     },
     "output_type": "display_data"
    }
   ],
   "source": [
    "#Histogram of bins\n",
    "import matplotlib.pyplot as plt\n",
    "plt.hist(yt, bins='auto')"
   ]
  }
 ],
 "metadata": {
  "kernelspec": {
   "display_name": "Python 3",
   "language": "python",
   "name": "python3"
  },
  "language_info": {
   "codemirror_mode": {
    "name": "ipython",
    "version": 3
   },
   "file_extension": ".py",
   "mimetype": "text/x-python",
   "name": "python",
   "nbconvert_exporter": "python",
   "pygments_lexer": "ipython3",
   "version": "3.7.1"
  }
 },
 "nbformat": 4,
 "nbformat_minor": 2
}
