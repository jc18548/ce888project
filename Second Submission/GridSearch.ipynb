{
 "cells": [
  {
   "cell_type": "code",
   "execution_count": null,
   "metadata": {},
   "outputs": [],
   "source": [
    "#Trees\n",
    "tree.fit(X_train_new, y_train_new)\n",
    "from sklearn.model_selection import GridSearchCV\n",
    "param_grid = {\"criterion\": [\"gini\", \"entropy\"],\n",
    "\"min_samples_split\": range(2,20),\n",
    "\"min_impurity_decrease\": range(2,20),\n",
    "\"max_depth\": [None, 2, 5, 10],\n",
    "\"min_samples_leaf\": [1, 5, 10],\n",
    "\"max_leaf_nodes\": [None, 5, 10, 20],\n",
    "}\n",
    "grid = GridSearchCV(tree, param_grid, cv=10, scoring='accuracy')"
   ]
  },
  {
   "cell_type": "code",
   "execution_count": null,
   "metadata": {},
   "outputs": [],
   "source": [
    "#Forest\n",
    "clf.fit(X_train, y_train)\n",
    "from sklearn.model_selection import GridSearchCV\n",
    "param_grid = {\"criterion\": [\"gini\", \"entropy\"],\n",
    "\"min_samples_split\": range(2,20),\n",
    "\"min_impurity_decrease\": range(2,20),\n",
    "\"max_depth\": [None, 2, 5, 10],\n",
    "\"min_samples_leaf\": [1, 5, 10],\n",
    "\"max_leaf_nodes\": [None, 5, 10, 20],\n",
    "}\n",
    "grid = GridSearchCV(clf, param_grid, cv=10, scoring='accuracy')"
   ]
  },
  {
   "cell_type": "code",
   "execution_count": null,
   "metadata": {},
   "outputs": [],
   "source": []
  }
 ],
 "metadata": {
  "kernelspec": {
   "display_name": "Python 3",
   "language": "python",
   "name": "python3"
  },
  "language_info": {
   "codemirror_mode": {
    "name": "ipython",
    "version": 3
   },
   "file_extension": ".py",
   "mimetype": "text/x-python",
   "name": "python",
   "nbconvert_exporter": "python",
   "pygments_lexer": "ipython3",
   "version": "3.7.1"
  }
 },
 "nbformat": 4,
 "nbformat_minor": 2
}
