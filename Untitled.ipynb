{
 "cells": [
  {
   "cell_type": "code",
   "execution_count": null,
   "metadata": {},
   "outputs": [],
   "source": [
    "import matplotlib\n",
    "import numpy as np\n",
    "import matplotlib.pyplot as plt\n",
    "import pandas as pd\n",
    "import seaborn as sns\n",
    "\n",
    "from sklearn.tree import DecisionTreeClassifier\n",
    "from sklearn.ensemble import RandomForestClassifier\n",
    "from sklearn.model_selection import cross_val_score\n",
    "from sklearn.metrics import accuracy_score as acc\n",
    "from sklearn.preprocessing import KBinsDiscretizer"
   ]
  },
  {
   "cell_type": "code",
   "execution_count": null,
   "metadata": {},
   "outputs": [],
   "source": [
    "#prepare data\n",
    "df = pd.read_csv(\"./YearPredictionMSD.txt\", header = None, delimiter = \",\")\n",
    "X = df.loc[:,1:]\n",
    "y = df.loc[:,0]\n",
    "X_train, X_test, y_train, y_test = train_test_split(X, y, test_size=0.70, random_state=5) #70% training  30% test"
   ]
  },
  {
   "cell_type": "code",
   "execution_count": null,
   "metadata": {},
   "outputs": [],
   "source": [
    "#train random forest\n",
    "clf=RandomForestClassifier(n_estimators=100)\n",
    "clf.fit(X_train,y_train)\n",
    "\n",
    "#Predict probabilities\n",
    "y_prob_pred = clf.predict_proba(X_test)\n",
    "\n",
    "#Predict in all data\n",
    "y_prob_pred = clf.predict_proba(X)"
   ]
  },
  {
   "cell_type": "code",
   "execution_count": null,
   "metadata": {},
   "outputs": [],
   "source": [
    "#Create new dataset\n",
    "\n",
    "#fit in bins\n",
    "ds = []\n",
    "bins = KBinsDiscretizer(n_bins=10, encode='ordinal', strategy='uniform')\n",
    "yt = bins.fit_transform(y_prob_pred[0])\n",
    "#yt = bins.transform(y_prob_pred[0])\n",
    "    \n",
    "X_train_new, X_test_new, y_train_new, y_test_new = train_test_split(X_train, yt, test_size=0.70, random_state=5) #70% training  30% test"
   ]
  },
  {
   "cell_type": "code",
   "execution_count": null,
   "metadata": {},
   "outputs": [],
   "source": [
    "#Generate tree\n",
    "tree = tree.DecisionTreeClassifier()\n",
    "tree.fit(X_train_new, y_train_new)\n",
    "\n",
    "#Predict \n",
    "y_pred_tree = tree.predict(X_test_new)\n",
    "\n",
    "#Return bins to two classes\n",
    "for i in range(len(y_pred_tree)):\n",
    "    if(y_pred_tree[i] <= 0.5):\n",
    "        y_pred_tree[i] = 0\n",
    "    else:\n",
    "        y_pred_tree[i] = 1\n",
    "\n",
    "#Test\n",
    "print(\"Accuracy:\", acc(y_test, y_pred_tree))\n",
    "\n",
    "#Predict original\n",
    "y_pred = tree.predict(X_test)\n",
    "\n",
    "#Test original\n",
    "print(\"Accuracy:\", acc(y_test, y_pred))\n",
    "\n"
   ]
  }
 ],
 "metadata": {
  "kernelspec": {
   "display_name": "Python 3",
   "language": "python",
   "name": "python3"
  },
  "language_info": {
   "codemirror_mode": {
    "name": "ipython",
    "version": 3
   },
   "file_extension": ".py",
   "mimetype": "text/x-python",
   "name": "python",
   "nbconvert_exporter": "python",
   "pygments_lexer": "ipython3",
   "version": "3.6.5"
  }
 },
 "nbformat": 4,
 "nbformat_minor": 2
}
